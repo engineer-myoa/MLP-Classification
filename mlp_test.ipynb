{
 "cells": [
  {
   "cell_type": "code",
   "execution_count": 1,
   "metadata": {},
   "outputs": [
    {
     "ename": "NameError",
     "evalue": "name 'math' is not defined",
     "traceback": [
      "\u001b[0;31m---------------------------------------------------------------------------\u001b[0m",
      "\u001b[0;31mNameError\u001b[0m                                 Traceback (most recent call last)",
      "\u001b[0;32m<ipython-input-1-674f3def7873>\u001b[0m in \u001b[0;36m<module>\u001b[0;34m()\u001b[0m\n\u001b[0;32m----> 1\u001b[0;31m \u001b[0mmath\u001b[0m\u001b[0;34m\u001b[0m\u001b[0m\n\u001b[0m",
      "\u001b[0;31mNameError\u001b[0m: name 'math' is not defined"
     ],
     "output_type": "error"
    }
   ],
   "source": [
    "math"
   ]
  },
  {
   "cell_type": "code",
   "execution_count": 2,
   "metadata": {},
   "outputs": [
    {
     "name": "stdout",
     "output_type": "stream",
     "text": [
      "[0, 0] \n\n\nx1, w(0, 0:  0 ,  0.5 / x1, w(1, 0:  0 ,  0.4 / x1, w(0, 1:  0 ,  0.9 / x1, w(1, 1:  0 ,  1.0 / \nbias:  0.1\nX : 0.1\n------------------------\n"
     ]
    },
    {
     "ename": "NameError",
     "evalue": "name 'result' is not defined",
     "traceback": [
      "\u001b[0;31m---------------------------------------------------------------------------\u001b[0m",
      "\u001b[0;31mNameError\u001b[0m                                 Traceback (most recent call last)",
      "\u001b[0;32m<ipython-input-2-ae1ee382dc34>\u001b[0m in \u001b[0;36m<module>\u001b[0;34m()\u001b[0m\n\u001b[1;32m     83\u001b[0m     \u001b[0mprint\u001b[0m\u001b[0;34m(\u001b[0m\u001b[0;34m\"------------------------\"\u001b[0m\u001b[0;34m)\u001b[0m\u001b[0;34m\u001b[0m\u001b[0m\n\u001b[1;32m     84\u001b[0m \u001b[0;34m\u001b[0m\u001b[0m\n\u001b[0;32m---> 85\u001b[0;31m     \u001b[0mprint\u001b[0m\u001b[0;34m(\u001b[0m\u001b[0;34m'RESULT : '\u001b[0m \u001b[0;34m+\u001b[0m \u001b[0mstr\u001b[0m\u001b[0;34m(\u001b[0m\u001b[0mresult\u001b[0m\u001b[0;34m)\u001b[0m\u001b[0;34m)\u001b[0m\u001b[0;34m\u001b[0m\u001b[0m\n\u001b[0m\u001b[1;32m     86\u001b[0m     \u001b[0mresult\u001b[0m \u001b[0;34m=\u001b[0m \u001b[0mcalcSigmoid\u001b[0m\u001b[0;34m(\u001b[0m\u001b[0mX\u001b[0m\u001b[0;34m)\u001b[0m\u001b[0;34m\u001b[0m\u001b[0m\n\u001b[1;32m     87\u001b[0m     \u001b[0my1\u001b[0m\u001b[0;34m.\u001b[0m\u001b[0mappend\u001b[0m\u001b[0;34m(\u001b[0m\u001b[0mresult\u001b[0m\u001b[0;34m)\u001b[0m\u001b[0;34m\u001b[0m\u001b[0m\n",
      "\u001b[0;31mNameError\u001b[0m: name 'result' is not defined"
     ],
     "output_type": "error"
    }
   ],
   "source": [
    "# -*- coding: utf-8 -*-\n",
    "from collections import namedtuple\n",
    "import random\n",
    "\n",
    "epoch_elem = namedtuple(\"epoch_elem\", [\"input\", \"targetResult\"])\n",
    "neuron_elem = namedtuple(\"neuron_elem\",[\"idx\", \"theta\", \"wList\"])\n",
    "weight_edge = namedtuple(\"weight_edge\", [\"fromNeuron\", \"toNeuron\", \"value\"])\n",
    "\n",
    "#namedtuple attribute are can not be changed\n",
    "\n",
    "\n",
    "\n",
    "\n",
    "\n",
    "#w = [ [ 0.3, -0.1],  ]\n",
    "\n",
    "#layer1 = MLP_LayerFrame(2,2)\n",
    "\n",
    "def genRandNormalized():\n",
    "    return random.random() - 0.5;\n",
    "\n",
    "# FOR XOR Operation\n",
    "elem1 = epoch_elem([0,0], 0)\n",
    "elem2 = epoch_elem([0,1], 1)\n",
    "elem3 = epoch_elem([1,0], 1)\n",
    "elem4 = epoch_elem([1,1], 0)\n",
    "\n",
    "train_and_epoch = [elem1, elem2, elem3, elem4]\n",
    "\n",
    "layer0_neuron_count = 2 # it means input size\n",
    "layer1_neuron_count = 2\n",
    "layer2_neuron_count = 1\n",
    "\n",
    "\n",
    "weight1 = [ [ genRandNormalized() for _column in range(layer1_neuron_count) ] for _row in range(layer0_neuron_count) ]\n",
    "weight2 = [ [ genRandNormalized() for _column in range(layer2_neuron_count) ] for _row in range(layer1_neuron_count) ]\n",
    "weight1 = [[0.5,0.9], [0.4,1.0]]\n",
    "weight2 = [[-1.2],[1.1]]\n",
    "\n",
    "\n",
    "bias1 = [ genRandNormalized() for _neuron in range(layer1_neuron_count) ]\n",
    "bias2 = [ genRandNormalized() for _neuron in range(layer2_neuron_count) ]\n",
    "bias1 = [ 0.8, -0.1 ]\n",
    "bias2 = [0.3]\n",
    "\n",
    "\n",
    "import math\n",
    "\n",
    "# 1 / (1+ e^-X)\n",
    "\n",
    "# differential은 미분여부\n",
    "def calcSigmoid(expression_or_eval, differential=False):\n",
    "    X = expression_or_eval\n",
    "    if(differential):\n",
    "        return calcSigmoid(X) * (1 - calcSigmoid(X))\n",
    "    return 1 / (1+math.exp(-X))\n",
    "\n",
    "\n",
    "y1 = []\n",
    "for train_elem in train_and_epoch:\n",
    "    train_data = train_elem.input\n",
    "    print(train_data, \"\\n\\n\")\n",
    "\n",
    "    # len(weight1)은 입력의 갯수\n",
    "\n",
    "    # len(weight1[0])는 각 입력으로부터 다음 레이어로 뻗는 weight 수\n",
    "    # 즉 다음 레이어 뉴런 수\n",
    "\n",
    "    # W(i,j)에서\n",
    "    # i는 입력의 수, j는 다음 레이어 뉴런 수\n",
    "    for j in range( len(weight1[0]) ) :\n",
    "\n",
    "        X = 0 # expression\n",
    "\n",
    "        # len(bias1)은 다음 레이어 뉴런의 수\n",
    "        for i in range( len(weight1) ):\n",
    "            X += train_data[i] * weight1[i][j]\n",
    "            print(\"x1, w(\" + str(i) + \", \" + str(j) + \": \", train_data[i], \", \", weight1[i][j], end=\" / \")\n",
    "\n",
    "    X -= bias1[j]\n",
    "    print(\"\\nbias: \", str(-bias1[j]) )\n",
    "    print('X : ' + str(X))\n",
    "    print(\"------------------------\")\n",
    "\n",
    "    print('RESULT : ' + str(result))\n",
    "    result = calcSigmoid(X)\n",
    "    y1.append(result)\n",
    "    print(\"===========================\")"
   ]
  },
  {
   "cell_type": "code",
   "execution_count": 3,
   "metadata": {},
   "outputs": [
    {
     "name": "stdout",
     "output_type": "stream",
     "text": [
      "[0, 0] \n\n\nx1, w(0, 0):  0 ,  0.5\nx1, w(1, 0):  0 ,  0.4\n\nbias:  -0.8\nX : -0.8\n------------------------\n"
     ]
    },
    {
     "ename": "NameError",
     "evalue": "name 'result' is not defined",
     "traceback": [
      "\u001b[0;31m---------------------------------------------------------------------------\u001b[0m",
      "\u001b[0;31mNameError\u001b[0m                                 Traceback (most recent call last)",
      "\u001b[0;32m<ipython-input-3-2f55f0524183>\u001b[0m in \u001b[0;36m<module>\u001b[0;34m()\u001b[0m\n\u001b[1;32m     28\u001b[0m         \u001b[0mprint\u001b[0m\u001b[0;34m(\u001b[0m\u001b[0;34m\"------------------------\"\u001b[0m\u001b[0;34m)\u001b[0m\u001b[0;34m\u001b[0m\u001b[0m\n\u001b[1;32m     29\u001b[0m \u001b[0;34m\u001b[0m\u001b[0m\n\u001b[0;32m---> 30\u001b[0;31m         \u001b[0mprint\u001b[0m\u001b[0;34m(\u001b[0m\u001b[0;34m'RESULT : '\u001b[0m \u001b[0;34m+\u001b[0m \u001b[0mstr\u001b[0m\u001b[0;34m(\u001b[0m\u001b[0mresult\u001b[0m\u001b[0;34m)\u001b[0m\u001b[0;34m)\u001b[0m\u001b[0;34m\u001b[0m\u001b[0m\n\u001b[0m\u001b[1;32m     31\u001b[0m         \u001b[0mresult\u001b[0m \u001b[0;34m=\u001b[0m \u001b[0mcalcSigmoid\u001b[0m\u001b[0;34m(\u001b[0m\u001b[0mX\u001b[0m\u001b[0;34m)\u001b[0m\u001b[0;34m\u001b[0m\u001b[0m\n\u001b[1;32m     32\u001b[0m         \u001b[0my1\u001b[0m\u001b[0;34m.\u001b[0m\u001b[0mappend\u001b[0m\u001b[0;34m(\u001b[0m\u001b[0mresult\u001b[0m\u001b[0;34m)\u001b[0m\u001b[0;34m\u001b[0m\u001b[0m\n",
      "\u001b[0;31mNameError\u001b[0m: name 'result' is not defined"
     ],
     "output_type": "error"
    }
   ],
   "source": [
    "y1 = []\n",
    "for train_elem in train_and_epoch:\n",
    "    train_data = train_elem.input\n",
    "    print(train_data, \"\\n\\n\")\n",
    "\n",
    "    # len(weight1)은 입력의 갯수\n",
    "\n",
    "    # len(weight1[0])는 각 입력으로부터 다음 레이어로 뻗는 weight 수\n",
    "    # 즉 다음 레이어 뉴런 수\n",
    "\n",
    "    # W(i,j)에서\n",
    "    # i는 입력의 수, j는 다음 레이어 뉴런 수\n",
    "    \n",
    "    # i대신 j가 먼저 나오는 이유는\n",
    "    # 13, 23 계산하여 append하고 14,24 계산하여 append 하기 위함\n",
    "    for j in range( len(weight1[0]) ) :\n",
    "\n",
    "        X = 0 # expression\n",
    "\n",
    "        # len(bias1)은 다음 레이어 뉴런의 수\n",
    "        for i in range( len(weight1) ):\n",
    "            X += train_data[i] * weight1[i][j]\n",
    "            print(\"x1, w(\" + str(i) + \", \" + str(j) + \"): \", train_data[i], \", \", weight1[i][j])\n",
    "\n",
    "        X -= bias1[j]\n",
    "        print(\"\\nbias: \", str(-bias1[j]) )\n",
    "        print('X : ' + str(X))\n",
    "        print(\"------------------------\")\n",
    "    \n",
    "        print('RESULT : ' + str(result))\n",
    "        result = calcSigmoid(X)\n",
    "        y1.append(result)\n",
    "        print(\"===========================\")"
   ]
  },
  {
   "cell_type": "code",
   "execution_count": 4,
   "metadata": {},
   "outputs": [
    {
     "name": "stdout",
     "output_type": "stream",
     "text": [
      "[0, 0] \n\n\nx1, w(0, 0):  0 ,  0.5\nx1, w(1, 0):  0 ,  0.4\n\nbias:  -0.8\nX : -0.8\n------------------------\nRESULT : 0.31002551887238755\n===========================\nx1, w(0, 1):  0 ,  0.9\nx1, w(1, 1):  0 ,  1.0\n\nbias:  0.1\nX : 0.1\n------------------------\nRESULT : 0.52497918747894\n===========================\n[0, 1] \n\n\nx1, w(0, 0):  0 ,  0.5\nx1, w(1, 0):  1 ,  0.4\n\nbias:  -0.8\nX : -0.4\n------------------------\nRESULT : 0.401312339887548\n===========================\nx1, w(0, 1):  0 ,  0.9\nx1, w(1, 1):  1 ,  1.0\n\nbias:  0.1\nX : 1.1\n------------------------\nRESULT : 0.7502601055951177\n===========================\n[1, 0] \n\n\nx1, w(0, 0):  1 ,  0.5\nx1, w(1, 0):  0 ,  0.4\n\nbias:  -0.8\nX : -0.30000000000000004\n------------------------\nRESULT : 0.425557483188341\n===========================\nx1, w(0, 1):  1 ,  0.9\nx1, w(1, 1):  0 ,  1.0\n\nbias:  0.1\nX : 1.0\n------------------------\nRESULT : 0.7310585786300049\n===========================\n[1, 1] \n\n\nx1, w(0, 0):  1 ,  0.5\nx1, w(1, 0):  1 ,  0.4\n\nbias:  -0.8\nX : 0.09999999999999998\n------------------------\nRESULT : 0.5249791874789399\n===========================\nx1, w(0, 1):  1 ,  0.9\nx1, w(1, 1):  1 ,  1.0\n\nbias:  0.1\nX : 2.0\n------------------------\nRESULT : 0.8807970779778823\n===========================\n"
     ]
    }
   ],
   "source": [
    "y1 = []\n",
    "for train_elem in train_and_epoch:\n",
    "    train_data = train_elem.input\n",
    "    print(train_data, \"\\n\\n\")\n",
    "\n",
    "    # len(weight1)은 입력의 갯수\n",
    "\n",
    "    # len(weight1[0])는 각 입력으로부터 다음 레이어로 뻗는 weight 수\n",
    "    # 즉 다음 레이어 뉴런 수\n",
    "\n",
    "    # W(i,j)에서\n",
    "    # i는 입력의 수, j는 다음 레이어 뉴런 수\n",
    "    \n",
    "    # i대신 j가 먼저 나오는 이유는\n",
    "    # 13, 23 계산하여 append하고 14,24 계산하여 append 하기 위함\n",
    "    for j in range( len(weight1[0]) ) :\n",
    "\n",
    "        X = 0 # expression\n",
    "\n",
    "        # len(bias1)은 다음 레이어 뉴런의 수\n",
    "        for i in range( len(weight1) ):\n",
    "            X += train_data[i] * weight1[i][j]\n",
    "            print(\"x1, w(\" + str(i) + \", \" + str(j) + \"): \", train_data[i], \", \", weight1[i][j])\n",
    "\n",
    "        X -= bias1[j]\n",
    "        print(\"\\nbias: \", str(-bias1[j]) )\n",
    "        print('X : ' + str(X))\n",
    "        print(\"------------------------\")\n",
    "    \n",
    "        result = calcSigmoid(X)\n",
    "        print('RESULT : ' + str(result))\n",
    "        y1.append(result)\n",
    "        print(\"===========================\")"
   ]
  },
  {
   "cell_type": "code",
   "execution_count": 5,
   "metadata": {},
   "outputs": [
    {
     "data": {
      "text/plain": [
       "[0.31002551887238755,\n 0.52497918747894,\n 0.401312339887548,\n 0.7502601055951177,\n 0.425557483188341,\n 0.7310585786300049,\n 0.5249791874789399,\n 0.8807970779778823]"
      ]
     },
     "execution_count": 5,
     "metadata": {},
     "output_type": "execute_result"
    }
   ],
   "source": [
    "y1"
   ]
  },
  {
   "cell_type": "code",
   "execution_count": 6,
   "metadata": {},
   "outputs": [],
   "source": [
    "train_and_epoch = [elem4]"
   ]
  },
  {
   "cell_type": "code",
   "execution_count": 7,
   "metadata": {},
   "outputs": [
    {
     "name": "stdout",
     "output_type": "stream",
     "text": [
      "[1, 1] \n\n\nx1, w(0, 0):  1 ,  0.5\nx1, w(1, 0):  1 ,  0.4\n\nbias:  -0.8\nX : 0.09999999999999998\n------------------------\nRESULT : 0.5249791874789399\n===========================\nx1, w(0, 1):  1 ,  0.9\nx1, w(1, 1):  1 ,  1.0\n\nbias:  0.1\nX : 2.0\n------------------------\nRESULT : 0.8807970779778823\n===========================\n"
     ]
    }
   ],
   "source": [
    "y1 = []\n",
    "for train_elem in train_and_epoch:\n",
    "    train_data = train_elem.input\n",
    "    print(train_data, \"\\n\\n\")\n",
    "\n",
    "    # len(weight1)은 입력의 갯수\n",
    "\n",
    "    # len(weight1[0])는 각 입력으로부터 다음 레이어로 뻗는 weight 수\n",
    "    # 즉 다음 레이어 뉴런 수\n",
    "\n",
    "    # W(i,j)에서\n",
    "    # i는 입력의 수, j는 다음 레이어 뉴런 수\n",
    "\n",
    "    # i대신 j가 먼저 나오는 이유는\n",
    "    # 13, 23 계산하여 append하고 14,24 계산하여 append 하기 위함\n",
    "    for j in range( len(weight1[0]) ) :\n",
    "\n",
    "        X = 0 # expression\n",
    "\n",
    "        # len(bias1)은 다음 레이어 뉴런의 수\n",
    "        for i in range( len(weight1) ):\n",
    "            X += train_data[i] * weight1[i][j]\n",
    "            print(\"x1, w(\" + str(i) + \", \" + str(j) + \"): \", train_data[i], \", \", weight1[i][j])\n",
    "\n",
    "        X -= bias1[j]\n",
    "        print(\"\\nbias: \", str(-bias1[j]) )\n",
    "        print('X : ' + str(X))\n",
    "        print(\"------------------------\")\n",
    "\n",
    "        result = calcSigmoid(X)\n",
    "        print('RESULT : ' + str(result))\n",
    "        y1.append(result)\n",
    "        print(\"===========================\")"
   ]
  },
  {
   "cell_type": "code",
   "execution_count": 8,
   "metadata": {},
   "outputs": [
    {
     "data": {
      "text/plain": [
       "[0.5249791874789399, 0.8807970779778823]"
      ]
     },
     "execution_count": 8,
     "metadata": {},
     "output_type": "execute_result"
    }
   ],
   "source": [
    "y1"
   ]
  },
  {
   "cell_type": "code",
   "execution_count": 9,
   "metadata": {},
   "outputs": [
    {
     "name": "stdout",
     "output_type": "stream",
     "text": [
      "[] \n\n\n"
     ]
    },
    {
     "ename": "IndexError",
     "evalue": "list index out of range",
     "traceback": [
      "\u001b[0;31m---------------------------------------------------------------------------\u001b[0m",
      "\u001b[0;31mIndexError\u001b[0m                                Traceback (most recent call last)",
      "\u001b[0;32m<ipython-input-9-5888f2e9cf26>\u001b[0m in \u001b[0;36m<module>\u001b[0;34m()\u001b[0m\n\u001b[1;32m      9\u001b[0m \u001b[0;34m\u001b[0m\u001b[0m\n\u001b[1;32m     10\u001b[0m         \u001b[0;32mfor\u001b[0m \u001b[0mi\u001b[0m \u001b[0;32min\u001b[0m \u001b[0mrange\u001b[0m\u001b[0;34m(\u001b[0m \u001b[0mlen\u001b[0m\u001b[0;34m(\u001b[0m\u001b[0mweight2\u001b[0m\u001b[0;34m)\u001b[0m \u001b[0;34m)\u001b[0m\u001b[0;34m:\u001b[0m\u001b[0;34m\u001b[0m\u001b[0m\n\u001b[0;32m---> 11\u001b[0;31m             \u001b[0mX\u001b[0m \u001b[0;34m+=\u001b[0m \u001b[0mtrain_data\u001b[0m\u001b[0;34m[\u001b[0m\u001b[0mi\u001b[0m\u001b[0;34m]\u001b[0m \u001b[0;34m*\u001b[0m \u001b[0mweight2\u001b[0m\u001b[0;34m[\u001b[0m\u001b[0mi\u001b[0m\u001b[0;34m]\u001b[0m\u001b[0;34m[\u001b[0m\u001b[0mj\u001b[0m\u001b[0;34m]\u001b[0m\u001b[0;34m\u001b[0m\u001b[0m\n\u001b[0m\u001b[1;32m     12\u001b[0m             \u001b[0mprint\u001b[0m\u001b[0;34m(\u001b[0m\u001b[0;34m\"x1, w(\"\u001b[0m \u001b[0;34m+\u001b[0m \u001b[0mstr\u001b[0m\u001b[0;34m(\u001b[0m\u001b[0mi\u001b[0m\u001b[0;34m)\u001b[0m \u001b[0;34m+\u001b[0m \u001b[0;34m\", \"\u001b[0m \u001b[0;34m+\u001b[0m \u001b[0mstr\u001b[0m\u001b[0;34m(\u001b[0m\u001b[0mj\u001b[0m\u001b[0;34m)\u001b[0m \u001b[0;34m+\u001b[0m \u001b[0;34m\"): \"\u001b[0m\u001b[0;34m,\u001b[0m \u001b[0mtrain_data\u001b[0m\u001b[0;34m[\u001b[0m\u001b[0mi\u001b[0m\u001b[0;34m]\u001b[0m\u001b[0;34m,\u001b[0m \u001b[0;34m\", \"\u001b[0m\u001b[0;34m,\u001b[0m \u001b[0mweight2\u001b[0m\u001b[0;34m[\u001b[0m\u001b[0mi\u001b[0m\u001b[0;34m]\u001b[0m\u001b[0;34m[\u001b[0m\u001b[0mj\u001b[0m\u001b[0;34m]\u001b[0m\u001b[0;34m)\u001b[0m\u001b[0;34m\u001b[0m\u001b[0m\n\u001b[1;32m     13\u001b[0m \u001b[0;34m\u001b[0m\u001b[0m\n",
      "\u001b[0;31mIndexError\u001b[0m: list index out of range"
     ],
     "output_type": "error"
    }
   ],
   "source": [
    "y2 = []\n",
    "for train_elem in [y2]:\n",
    "    train_data = train_elem\n",
    "    print(train_data, \"\\n\\n\")\n",
    "\n",
    "    for j in range( len(weight1[0]) ) :\n",
    "\n",
    "        X = 0 # expression\n",
    "\n",
    "        for i in range( len(weight2) ):\n",
    "            X += train_data[i] * weight2[i][j]\n",
    "            print(\"x1, w(\" + str(i) + \", \" + str(j) + \"): \", train_data[i], \", \", weight2[i][j])\n",
    "\n",
    "        X -= bias2[j]\n",
    "        print(\"\\nbias: \", str(-bias2[j]) )\n",
    "        print('X : ' + str(X))\n",
    "        print(\"------------------------\")\n",
    "\n",
    "        result = calcSigmoid(X)\n",
    "        print('RESULT : ' + str(result))\n",
    "        y2.append(result)\n",
    "        print(\"===========================\")"
   ]
  },
  {
   "cell_type": "code",
   "execution_count": 10,
   "metadata": {},
   "outputs": [
    {
     "data": {
      "text/plain": [
       "[]"
      ]
     },
     "execution_count": 10,
     "metadata": {},
     "output_type": "execute_result"
    }
   ],
   "source": [
    "y2"
   ]
  },
  {
   "cell_type": "code",
   "execution_count": 11,
   "metadata": {},
   "outputs": [
    {
     "name": "stdout",
     "output_type": "stream",
     "text": [
      "[] \n\n\nx1, w(0, 0):  "
     ]
    },
    {
     "ename": "IndexError",
     "evalue": "list index out of range",
     "traceback": [
      "\u001b[0;31m---------------------------------------------------------------------------\u001b[0m",
      "\u001b[0;31mIndexError\u001b[0m                                Traceback (most recent call last)",
      "\u001b[0;32m<ipython-input-11-d1cce4c69fea>\u001b[0m in \u001b[0;36m<module>\u001b[0;34m()\u001b[0m\n\u001b[1;32m     10\u001b[0m         \u001b[0;32mfor\u001b[0m \u001b[0mi\u001b[0m \u001b[0;32min\u001b[0m \u001b[0mrange\u001b[0m\u001b[0;34m(\u001b[0m \u001b[0mlen\u001b[0m\u001b[0;34m(\u001b[0m\u001b[0mweight2\u001b[0m\u001b[0;34m)\u001b[0m \u001b[0;34m)\u001b[0m\u001b[0;34m:\u001b[0m\u001b[0;34m\u001b[0m\u001b[0m\n\u001b[1;32m     11\u001b[0m             \u001b[0mprint\u001b[0m\u001b[0;34m(\u001b[0m\u001b[0;34m\"x1, w(\"\u001b[0m \u001b[0;34m+\u001b[0m \u001b[0mstr\u001b[0m\u001b[0;34m(\u001b[0m\u001b[0mi\u001b[0m\u001b[0;34m)\u001b[0m \u001b[0;34m+\u001b[0m \u001b[0;34m\", \"\u001b[0m \u001b[0;34m+\u001b[0m \u001b[0mstr\u001b[0m\u001b[0;34m(\u001b[0m\u001b[0mj\u001b[0m\u001b[0;34m)\u001b[0m \u001b[0;34m+\u001b[0m \u001b[0;34m\"): \"\u001b[0m\u001b[0;34m,\u001b[0m \u001b[0mend\u001b[0m\u001b[0;34m=\u001b[0m\u001b[0;34m\" \"\u001b[0m\u001b[0;34m)\u001b[0m\u001b[0;34m\u001b[0m\u001b[0m\n\u001b[0;32m---> 12\u001b[0;31m             \u001b[0mprint\u001b[0m\u001b[0;34m(\u001b[0m\u001b[0mtrain_data\u001b[0m\u001b[0;34m[\u001b[0m\u001b[0mi\u001b[0m\u001b[0;34m]\u001b[0m\u001b[0;34m,\u001b[0m \u001b[0;34m\", \"\u001b[0m\u001b[0;34m,\u001b[0m \u001b[0mweight2\u001b[0m\u001b[0;34m[\u001b[0m\u001b[0mi\u001b[0m\u001b[0;34m]\u001b[0m\u001b[0;34m[\u001b[0m\u001b[0mj\u001b[0m\u001b[0;34m]\u001b[0m\u001b[0;34m)\u001b[0m\u001b[0;34m\u001b[0m\u001b[0m\n\u001b[0m\u001b[1;32m     13\u001b[0m             \u001b[0mX\u001b[0m \u001b[0;34m+=\u001b[0m \u001b[0mtrain_data\u001b[0m\u001b[0;34m[\u001b[0m\u001b[0mi\u001b[0m\u001b[0;34m]\u001b[0m \u001b[0;34m*\u001b[0m \u001b[0mweight2\u001b[0m\u001b[0;34m[\u001b[0m\u001b[0mi\u001b[0m\u001b[0;34m]\u001b[0m\u001b[0;34m[\u001b[0m\u001b[0mj\u001b[0m\u001b[0;34m]\u001b[0m\u001b[0;34m\u001b[0m\u001b[0m\n\u001b[1;32m     14\u001b[0m \u001b[0;34m\u001b[0m\u001b[0m\n",
      "\u001b[0;31mIndexError\u001b[0m: list index out of range"
     ],
     "output_type": "error"
    }
   ],
   "source": [
    "y2 = []\n",
    "for train_elem in [y2]:\n",
    "    train_data = train_elem\n",
    "    print(train_data, \"\\n\\n\")\n",
    "\n",
    "    for j in range( len(weight1[0]) ) :\n",
    "\n",
    "        X = 0 # expression\n",
    "\n",
    "        for i in range( len(weight2) ):\n",
    "            print(\"x1, w(\" + str(i) + \", \" + str(j) + \"): \", end=\" \")\n",
    "            print(train_data[i], \", \", weight2[i][j])\n",
    "            X += train_data[i] * weight2[i][j]\n",
    "\n",
    "        X -= bias2[j]\n",
    "        print(\"\\nbias: \", str(-bias2[j]) )\n",
    "        print('X : ' + str(X))\n",
    "        print(\"------------------------\")\n",
    "\n",
    "        result = calcSigmoid(X)\n",
    "        print('RESULT : ' + str(result))\n",
    "        y2.append(result)\n",
    "        print(\"===========================\")\n",
    "        "
   ]
  },
  {
   "cell_type": "code",
   "execution_count": 12,
   "metadata": {},
   "outputs": [
    {
     "name": "stdout",
     "output_type": "stream",
     "text": [
      "[0.5249791874789399, 0.8807970779778823] \n\n\nx1, w(0, 0):  0.5249791874789399 ,  -1.2\nx1, w(1, 0):  0.8807970779778823 ,  1.1\n\nbias:  -0.3\nX : 0.03890176080094271\n------------------------\nRESULT : 0.5097242138886783\n===========================\nx1, w(0, 1):  "
     ]
    },
    {
     "ename": "IndexError",
     "evalue": "list index out of range",
     "traceback": [
      "\u001b[0;31m---------------------------------------------------------------------------\u001b[0m",
      "\u001b[0;31mIndexError\u001b[0m                                Traceback (most recent call last)",
      "\u001b[0;32m<ipython-input-12-8f4f90746b0d>\u001b[0m in \u001b[0;36m<module>\u001b[0;34m()\u001b[0m\n\u001b[1;32m     10\u001b[0m         \u001b[0;32mfor\u001b[0m \u001b[0mi\u001b[0m \u001b[0;32min\u001b[0m \u001b[0mrange\u001b[0m\u001b[0;34m(\u001b[0m \u001b[0mlen\u001b[0m\u001b[0;34m(\u001b[0m\u001b[0mweight2\u001b[0m\u001b[0;34m)\u001b[0m \u001b[0;34m)\u001b[0m\u001b[0;34m:\u001b[0m\u001b[0;34m\u001b[0m\u001b[0m\n\u001b[1;32m     11\u001b[0m             \u001b[0mprint\u001b[0m\u001b[0;34m(\u001b[0m\u001b[0;34m\"x1, w(\"\u001b[0m \u001b[0;34m+\u001b[0m \u001b[0mstr\u001b[0m\u001b[0;34m(\u001b[0m\u001b[0mi\u001b[0m\u001b[0;34m)\u001b[0m \u001b[0;34m+\u001b[0m \u001b[0;34m\", \"\u001b[0m \u001b[0;34m+\u001b[0m \u001b[0mstr\u001b[0m\u001b[0;34m(\u001b[0m\u001b[0mj\u001b[0m\u001b[0;34m)\u001b[0m \u001b[0;34m+\u001b[0m \u001b[0;34m\"): \"\u001b[0m\u001b[0;34m,\u001b[0m \u001b[0mend\u001b[0m\u001b[0;34m=\u001b[0m\u001b[0;34m\" \"\u001b[0m\u001b[0;34m)\u001b[0m\u001b[0;34m\u001b[0m\u001b[0m\n\u001b[0;32m---> 12\u001b[0;31m             \u001b[0mprint\u001b[0m\u001b[0;34m(\u001b[0m\u001b[0mtrain_data\u001b[0m\u001b[0;34m[\u001b[0m\u001b[0mi\u001b[0m\u001b[0;34m]\u001b[0m\u001b[0;34m,\u001b[0m \u001b[0;34m\", \"\u001b[0m\u001b[0;34m,\u001b[0m \u001b[0mweight2\u001b[0m\u001b[0;34m[\u001b[0m\u001b[0mi\u001b[0m\u001b[0;34m]\u001b[0m\u001b[0;34m[\u001b[0m\u001b[0mj\u001b[0m\u001b[0;34m]\u001b[0m\u001b[0;34m)\u001b[0m\u001b[0;34m\u001b[0m\u001b[0m\n\u001b[0m\u001b[1;32m     13\u001b[0m             \u001b[0mX\u001b[0m \u001b[0;34m+=\u001b[0m \u001b[0mtrain_data\u001b[0m\u001b[0;34m[\u001b[0m\u001b[0mi\u001b[0m\u001b[0;34m]\u001b[0m \u001b[0;34m*\u001b[0m \u001b[0mweight2\u001b[0m\u001b[0;34m[\u001b[0m\u001b[0mi\u001b[0m\u001b[0;34m]\u001b[0m\u001b[0;34m[\u001b[0m\u001b[0mj\u001b[0m\u001b[0;34m]\u001b[0m\u001b[0;34m\u001b[0m\u001b[0m\n\u001b[1;32m     14\u001b[0m \u001b[0;34m\u001b[0m\u001b[0m\n",
      "\u001b[0;31mIndexError\u001b[0m: list index out of range"
     ],
     "output_type": "error"
    }
   ],
   "source": [
    "y2 = []\n",
    "for train_elem in [y1]:\n",
    "    train_data = train_elem\n",
    "    print(train_data, \"\\n\\n\")\n",
    "\n",
    "    for j in range( len(weight1[0]) ) :\n",
    "\n",
    "        X = 0 # expression\n",
    "\n",
    "        for i in range( len(weight2) ):\n",
    "            print(\"x1, w(\" + str(i) + \", \" + str(j) + \"): \", end=\" \")\n",
    "            print(train_data[i], \", \", weight2[i][j])\n",
    "            X += train_data[i] * weight2[i][j]\n",
    "\n",
    "        X -= bias2[j]\n",
    "        print(\"\\nbias: \", str(-bias2[j]) )\n",
    "        print('X : ' + str(X))\n",
    "        print(\"------------------------\")\n",
    "\n",
    "        result = calcSigmoid(X)\n",
    "        print('RESULT : ' + str(result))\n",
    "        y2.append(result)\n",
    "        print(\"===========================\")"
   ]
  },
  {
   "cell_type": "code",
   "execution_count": 14,
   "metadata": {},
   "outputs": [
    {
     "data": {
      "text/plain": [
       "[0.5097242138886783]"
      ]
     },
     "execution_count": 14,
     "metadata": {},
     "output_type": "execute_result"
    }
   ],
   "source": [
    "y2"
   ]
  },
  {
   "cell_type": "code",
   "execution_count": 15,
   "metadata": {},
   "outputs": [
    {
     "name": "stdout",
     "output_type": "stream",
     "text": [
      "[0.5249791874789399, 0.8807970779778823] \n\n\nx1, w(0, 0):  0.5249791874789399 ,  -1.2\nx1, w(1, 0):  0.8807970779778823 ,  1.1\n\nbias:  -0.3\nX : 0.03890176080094271\n------------------------\nRESULT : 0.5097242138886783\n===========================\n"
     ]
    }
   ],
   "source": [
    "y2 = []\n",
    "for train_elem in [y1]:\n",
    "    train_data = train_elem\n",
    "    print(train_data, \"\\n\\n\")\n",
    "    \n",
    "    # len(weight1)은 입력의 갯수\n",
    "\n",
    "    # len(weight1[0])는 각 입력으로부터 다음 레이어로 뻗는 weight 수\n",
    "    # 즉 다음 레이어 뉴런 수\n",
    "    \n",
    "    for j in range( len(weight2[0]) ) :\n",
    "\n",
    "        X = 0 # expression\n",
    "\n",
    "        for i in range( len(weight2) ):\n",
    "            print(\"x1, w(\" + str(i) + \", \" + str(j) + \"): \", end=\" \")\n",
    "            print(train_data[i], \", \", weight2[i][j])\n",
    "            X += train_data[i] * weight2[i][j]\n",
    "\n",
    "        X -= bias2[j]\n",
    "        print(\"\\nbias: \", str(-bias2[j]) )\n",
    "        print('X : ' + str(X))\n",
    "        print(\"------------------------\")\n",
    "\n",
    "        result = calcSigmoid(X)\n",
    "        print('RESULT : ' + str(result))\n",
    "        y2.append(result)\n",
    "        print(\"===========================\")"
   ]
  },
  {
   "cell_type": "code",
   "execution_count": 16,
   "metadata": {},
   "outputs": [],
   "source": [
    "err = elem4.targetResult - y2[0]\n"
   ]
  },
  {
   "cell_type": "code",
   "execution_count": 17,
   "metadata": {},
   "outputs": [
    {
     "data": {
      "text/plain": [
       "-0.5097242138886783"
      ]
     },
     "execution_count": 17,
     "metadata": {},
     "output_type": "execute_result"
    }
   ],
   "source": [
    "err"
   ]
  },
  {
   "cell_type": "code",
   "execution_count": 18,
   "metadata": {},
   "outputs": [
    {
     "data": {
      "text/plain": [
       "[0.5249791874789399, 0.8807970779778823]"
      ]
     },
     "execution_count": 18,
     "metadata": {},
     "output_type": "execute_result"
    }
   ],
   "source": [
    "y1"
   ]
  },
  {
   "cell_type": "code",
   "execution_count": 20,
   "metadata": {},
   "outputs": [
    {
     "data": {
      "text/plain": [
       "[0.3]"
      ]
     },
     "execution_count": 20,
     "metadata": {},
     "output_type": "execute_result"
    }
   ],
   "source": [
    "bias2"
   ]
  },
  {
   "cell_type": "code",
   "execution_count": null,
   "metadata": {},
   "outputs": [],
   "source": []
  }
 ],
 "metadata": {
  "kernelspec": {
   "display_name": "Python 2",
   "language": "python",
   "name": "python2"
  },
  "language_info": {
   "codemirror_mode": {
    "name": "ipython",
    "version": 2
   },
   "file_extension": ".py",
   "mimetype": "text/x-python",
   "name": "python",
   "nbconvert_exporter": "python",
   "pygments_lexer": "ipython2",
   "version": "2.7.6"
  }
 },
 "nbformat": 4,
 "nbformat_minor": 0
}
